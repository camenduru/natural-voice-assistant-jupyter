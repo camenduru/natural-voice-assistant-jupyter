{
  "cells": [
    {
      "cell_type": "markdown",
      "metadata": {
        "id": "view-in-github"
      },
      "source": [
        "[![Open In Colab](https://colab.research.google.com/assets/colab-badge.svg)](https://colab.research.google.com/github/camenduru/natural-voice-assistant-jupyter/blob/main/test.ipynb)"
      ]
    },
    {
      "cell_type": "code",
      "execution_count": null,
      "metadata": {
        "id": "VjYy0F2gZIPR"
      },
      "outputs": [],
      "source": [
        "%cd /content\n",
        "!git clone --recursive -b dev https://github.com/camenduru/natural_voice_assistant\n",
        "%cd /content/natural_voice_assistant\n",
        "\n",
        "!apt install -qq espeak-ng portaudio19-dev aria2\n",
        "!pip install -q pyaudio sounddevice wget omegaconf pytorch_lightning phonemizer munch einops_exts accelerate pyngrok\n",
        "!pip install -q git+https://github.com/resemble-ai/monotonic_align\n",
        "\n",
        "!aria2c --console-log-level=error -c -x 16 -s 16 -k 1M https://huggingface.co/audo/all_test/resolve/main/ash.wav -d /content -o ash.wav\n",
        "\n",
        "import nltk\n",
        "nltk.download('punkt')\n",
        "\n",
        "import gc, torch\n",
        "from models_voice_assistant.stt_llm_tts_model import STT_LLM_TTS\n",
        "\n",
        "def flush():\n",
        "  \"\"\"Flush Cuda cache to prevent side effect and slowdowns   \n",
        "  \"\"\"\n",
        "  gc.collect()\n",
        "  torch.cuda.empty_cache()\n",
        "  torch.cuda.reset_peak_memory_stats()\n",
        "\n",
        "if torch.cuda.is_available():\n",
        "    device = 'cuda'\n",
        "    flush()\n",
        "else:\n",
        "    device = 'cpu'\n",
        "\n",
        "model = STT_LLM_TTS(device=device)"
      ]
    },
    {
      "cell_type": "code",
      "execution_count": null,
      "metadata": {},
      "outputs": [],
      "source": [
        "import nltk\n",
        "nltk.download('punkt')\n",
        "import gc, torch\n",
        "import soundfile as sf\n",
        "from models_voice_assistant.stt_llm_tts_model import STT_LLM_TTS\n",
        "\n",
        "wav_file = '/content/ash.wav'\n",
        "signal, sr = sf.read(wav_file)\n",
        "signal = signal[:, 0]\n",
        "chunk_size = int(8000 * 0.08)\n",
        "chunks = [signal[i:i + chunk_size] for i in range(0, len(signal), chunk_size)]"
      ]
    },
    {
      "cell_type": "code",
      "execution_count": null,
      "metadata": {},
      "outputs": [],
      "source": [
        "for chunk in chunks:\n",
        "    transcription = model.call_STT(features)\n",
        "    response = model.call_LLM(transcription)\n",
        "    wav = model.call_TTS(response)"
      ]
    }
  ],
  "metadata": {
    "accelerator": "GPU",
    "colab": {
      "gpuType": "T4",
      "provenance": []
    },
    "kernelspec": {
      "display_name": "Python 3",
      "name": "python3"
    },
    "language_info": {
      "name": "python"
    }
  },
  "nbformat": 4,
  "nbformat_minor": 0
}
